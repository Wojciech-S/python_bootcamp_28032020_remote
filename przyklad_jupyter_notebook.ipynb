{
 "cells": [
  {
   "cell_type": "markdown",
   "metadata": {},
   "source": [
    "# podstawy jupyter\n",
    "\n",
    "## wykonywanie komórek\n",
    "\n",
    "* shift + enter - wykonanie komórki i przejście do następnej\n",
    "* ctrl + enter - wykonanie w miejscu - bez przejścia\n",
    "* alt + enter - wykonanie komórki i utworzenie nowej\n",
    "\n",
    "\n",
    "## nagłówki:\n",
    "\n",
    "### h3\n",
    "\n",
    "#### h4\n",
    "\n",
    "##### h5\n",
    "\n",
    "###### h6\n",
    "\n",
    "## Inne przydatne komendy w trybie poleceń:\n",
    "\n",
    "* a - utworzenie komórki powyżej\n",
    "* b - poniżej\n",
    "* dd - usunięcie komórki\n",
    "* m - zamiana na markdown\n",
    "* y -  zamiana na komórkę typu code\n"
   ]
  },
  {
   "cell_type": "code",
   "execution_count": 33,
   "metadata": {},
   "outputs": [],
   "source": [
    "def dodaj(a, b):\n",
    "    return a + b + 10"
   ]
  },
  {
   "cell_type": "code",
   "execution_count": 34,
   "metadata": {},
   "outputs": [
    {
     "data": {
      "text/plain": [
       "40"
      ]
     },
     "execution_count": 34,
     "metadata": {},
     "output_type": "execute_result"
    }
   ],
   "source": [
    "dodaj(10, 20)"
   ]
  },
  {
   "cell_type": "markdown",
   "metadata": {},
   "source": [
    "https://github.com/rkorzen/python_bootcamp_28032020_remote.git\n"
   ]
  },
  {
   "cell_type": "code",
   "execution_count": null,
   "metadata": {},
   "outputs": [],
   "source": []
  }
 ],
 "metadata": {
  "kernelspec": {
   "display_name": "Python 3",
   "language": "python",
   "name": "python3"
  },
  "language_info": {
   "codemirror_mode": {
    "name": "ipython",
    "version": 3
   },
   "file_extension": ".py",
   "mimetype": "text/x-python",
   "name": "python",
   "nbconvert_exporter": "python",
   "pygments_lexer": "ipython3",
   "version": "3.8.2"
  }
 },
 "nbformat": 4,
 "nbformat_minor": 4
}
